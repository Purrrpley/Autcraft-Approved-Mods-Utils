{
 "cells": [
  {
   "cell_type": "code",
   "execution_count": null,
   "metadata": {},
   "outputs": [],
   "source": [
    "import requests\n",
    "import wikitextparser as wtp\n",
    "import"
   ]
  },
  {
   "cell_type": "code",
   "execution_count": null,
   "metadata": {},
   "outputs": [],
   "source": [
    "request_data = json.dumps(\n",
    "    {\n",
    "        'id': 549692,\n",
    "        'method': 'Wiki.getPageTitle',\n",
    "        'params': {\n",
    "            'preset_id': 34575523,\n",
    "            'title': 'Approved_Mods',\n",
    "            'prop': [\n",
    "                'text'\n",
    "            ]\n",
    "        }\n",
    "    }\n",
    ")\n",
    "r = requests.post('https://www.autcraft.com/api/v1/api.php', request_data)"
   ]
  },
  {
   "cell_type": "code",
   "execution_count": null,
   "metadata": {},
   "outputs": [],
   "source": []
  }
 ],
 "metadata": {
  "interpreter": {
   "hash": "49976991e434baa58e745a0dd50a33132b61666283e7f6015ea510fb735192db"
  },
  "kernelspec": {
   "display_name": "Python 3.10.1 64-bit ('.venv': venv)",
   "language": "python",
   "name": "python3"
  },
  "language_info": {
   "name": "python",
   "version": "3.10.1"
  },
  "orig_nbformat": 4
 },
 "nbformat": 4,
 "nbformat_minor": 2
}
